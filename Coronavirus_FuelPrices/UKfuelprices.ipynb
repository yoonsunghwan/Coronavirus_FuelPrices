{
 "cells": [
  {
   "cell_type": "code",
   "execution_count": 1,
   "metadata": {},
   "outputs": [],
   "source": [
    "import pandas as pd"
   ]
  },
  {
   "cell_type": "code",
   "execution_count": 2,
   "metadata": {},
   "outputs": [],
   "source": [
    "#read in the csv, but skip first 3 rows and only use the first 7 columns of the csv\n",
    "df = pd.read_csv(\"uk_weeklyfuelprices.csv\", header = 2,usecols = range(7))"
   ]
  },
  {
   "attachments": {},
   "cell_type": "markdown",
   "metadata": {},
   "source": [
    "### The csv file is provided by the uk government   \n",
    "https://www.gov.uk/government/statistical-data-sets/oil-and-petroleum-products-weekly-statistics   \n",
    "ULSP = Ultra low sulpur unleaded petrol\t\t\t\n",
    "ULSD = Ultra low sulphur diesel\t\n",
    "Pump price in pence/litre\n",
    "\n",
    "ULSP.1 & ULSD.1 = Duty rate in pence/litre  \n",
    "ULSP.2 & ULSD.2 = VAT percentage rate"
   ]
  },
  {
   "cell_type": "code",
   "execution_count": 3,
   "metadata": {},
   "outputs": [
    {
     "data": {
      "text/html": [
       "<div>\n",
       "<style scoped>\n",
       "    .dataframe tbody tr th:only-of-type {\n",
       "        vertical-align: middle;\n",
       "    }\n",
       "\n",
       "    .dataframe tbody tr th {\n",
       "        vertical-align: top;\n",
       "    }\n",
       "\n",
       "    .dataframe thead th {\n",
       "        text-align: right;\n",
       "    }\n",
       "</style>\n",
       "<table border=\"1\" class=\"dataframe\">\n",
       "  <thead>\n",
       "    <tr style=\"text-align: right;\">\n",
       "      <th></th>\n",
       "      <th>Date</th>\n",
       "      <th>ULSP</th>\n",
       "      <th>ULSD</th>\n",
       "      <th>ULSP.1</th>\n",
       "      <th>ULSD.1</th>\n",
       "      <th>ULSP.2</th>\n",
       "      <th>ULSD.2</th>\n",
       "    </tr>\n",
       "  </thead>\n",
       "  <tbody>\n",
       "    <tr>\n",
       "      <th>0</th>\n",
       "      <td>09/06/2003</td>\n",
       "      <td>74.59</td>\n",
       "      <td>76.77</td>\n",
       "      <td>45.82</td>\n",
       "      <td>45.82</td>\n",
       "      <td>17.5</td>\n",
       "      <td>17.5</td>\n",
       "    </tr>\n",
       "    <tr>\n",
       "      <th>1</th>\n",
       "      <td>16/06/2003</td>\n",
       "      <td>74.47</td>\n",
       "      <td>76.69</td>\n",
       "      <td>45.82</td>\n",
       "      <td>45.82</td>\n",
       "      <td>17.5</td>\n",
       "      <td>17.5</td>\n",
       "    </tr>\n",
       "    <tr>\n",
       "      <th>2</th>\n",
       "      <td>23/06/2003</td>\n",
       "      <td>74.42</td>\n",
       "      <td>76.62</td>\n",
       "      <td>45.82</td>\n",
       "      <td>45.82</td>\n",
       "      <td>17.5</td>\n",
       "      <td>17.5</td>\n",
       "    </tr>\n",
       "    <tr>\n",
       "      <th>3</th>\n",
       "      <td>30/06/2003</td>\n",
       "      <td>74.35</td>\n",
       "      <td>76.51</td>\n",
       "      <td>45.82</td>\n",
       "      <td>45.82</td>\n",
       "      <td>17.5</td>\n",
       "      <td>17.5</td>\n",
       "    </tr>\n",
       "    <tr>\n",
       "      <th>4</th>\n",
       "      <td>07/07/2003</td>\n",
       "      <td>74.28</td>\n",
       "      <td>76.46</td>\n",
       "      <td>45.82</td>\n",
       "      <td>45.82</td>\n",
       "      <td>17.5</td>\n",
       "      <td>17.5</td>\n",
       "    </tr>\n",
       "  </tbody>\n",
       "</table>\n",
       "</div>"
      ],
      "text/plain": [
       "         Date   ULSP   ULSD  ULSP.1  ULSD.1  ULSP.2  ULSD.2\n",
       "0  09/06/2003  74.59  76.77   45.82   45.82    17.5    17.5\n",
       "1  16/06/2003  74.47  76.69   45.82   45.82    17.5    17.5\n",
       "2  23/06/2003  74.42  76.62   45.82   45.82    17.5    17.5\n",
       "3  30/06/2003  74.35  76.51   45.82   45.82    17.5    17.5\n",
       "4  07/07/2003  74.28  76.46   45.82   45.82    17.5    17.5"
      ]
     },
     "execution_count": 3,
     "metadata": {},
     "output_type": "execute_result"
    }
   ],
   "source": [
    "#look at the first five records in the dataset\n",
    "df.head()"
   ]
  },
  {
   "cell_type": "markdown",
   "metadata": {},
   "source": [
    "### Feature Engineering\n",
    "Look at the features and change them such as:\n",
    "* Changing date from object to datetime\n",
    "* Renaming the columns/ Deleting columns\n",
    "* Converting pence/liters to gallon/dollars"
   ]
  },
  {
   "cell_type": "code",
   "execution_count": 4,
   "metadata": {},
   "outputs": [],
   "source": [
    "#change date to datetime\n",
    "df['Date'] = pd.to_datetime(df['Date'],dayfirst = True, format = \"%d/%m/%Y\")"
   ]
  },
  {
   "cell_type": "code",
   "execution_count": 5,
   "metadata": {},
   "outputs": [
    {
     "name": "stdout",
     "output_type": "stream",
     "text": [
      "<class 'pandas.core.frame.DataFrame'>\n",
      "RangeIndex: 883 entries, 0 to 882\n",
      "Data columns (total 7 columns):\n",
      "Date      883 non-null datetime64[ns]\n",
      "ULSP      883 non-null float64\n",
      "ULSD      883 non-null float64\n",
      "ULSP.1    883 non-null float64\n",
      "ULSD.1    883 non-null float64\n",
      "ULSP.2    883 non-null float64\n",
      "ULSD.2    883 non-null float64\n",
      "dtypes: datetime64[ns](1), float64(6)\n",
      "memory usage: 48.4 KB\n"
     ]
    }
   ],
   "source": [
    "df.info()"
   ]
  },
  {
   "cell_type": "code",
   "execution_count": 6,
   "metadata": {},
   "outputs": [],
   "source": [
    "#rename note peterol and diesel are costs in pence/liters\n",
    "df.rename({'ULSP': 'Petrol', 'ULSD': 'Diesel', 'ULSP.1':'PDutyRate','ULSD.1':'DDutyRate','ULSP.2':'PVATPercentage','ULSD.2':'DVATPercentage'}, axis = 1, inplace = True)"
   ]
  },
  {
   "cell_type": "code",
   "execution_count": 7,
   "metadata": {},
   "outputs": [
    {
     "data": {
      "text/html": [
       "<div>\n",
       "<style scoped>\n",
       "    .dataframe tbody tr th:only-of-type {\n",
       "        vertical-align: middle;\n",
       "    }\n",
       "\n",
       "    .dataframe tbody tr th {\n",
       "        vertical-align: top;\n",
       "    }\n",
       "\n",
       "    .dataframe thead th {\n",
       "        text-align: right;\n",
       "    }\n",
       "</style>\n",
       "<table border=\"1\" class=\"dataframe\">\n",
       "  <thead>\n",
       "    <tr style=\"text-align: right;\">\n",
       "      <th></th>\n",
       "      <th>Date</th>\n",
       "      <th>Petrol</th>\n",
       "      <th>Diesel</th>\n",
       "      <th>PDutyRate</th>\n",
       "      <th>DDutyRate</th>\n",
       "      <th>PVATPercentage</th>\n",
       "      <th>DVATPercentage</th>\n",
       "    </tr>\n",
       "  </thead>\n",
       "  <tbody>\n",
       "    <tr>\n",
       "      <th>0</th>\n",
       "      <td>2003-06-09</td>\n",
       "      <td>74.59</td>\n",
       "      <td>76.77</td>\n",
       "      <td>45.82</td>\n",
       "      <td>45.82</td>\n",
       "      <td>17.5</td>\n",
       "      <td>17.5</td>\n",
       "    </tr>\n",
       "    <tr>\n",
       "      <th>1</th>\n",
       "      <td>2003-06-16</td>\n",
       "      <td>74.47</td>\n",
       "      <td>76.69</td>\n",
       "      <td>45.82</td>\n",
       "      <td>45.82</td>\n",
       "      <td>17.5</td>\n",
       "      <td>17.5</td>\n",
       "    </tr>\n",
       "    <tr>\n",
       "      <th>2</th>\n",
       "      <td>2003-06-23</td>\n",
       "      <td>74.42</td>\n",
       "      <td>76.62</td>\n",
       "      <td>45.82</td>\n",
       "      <td>45.82</td>\n",
       "      <td>17.5</td>\n",
       "      <td>17.5</td>\n",
       "    </tr>\n",
       "    <tr>\n",
       "      <th>3</th>\n",
       "      <td>2003-06-30</td>\n",
       "      <td>74.35</td>\n",
       "      <td>76.51</td>\n",
       "      <td>45.82</td>\n",
       "      <td>45.82</td>\n",
       "      <td>17.5</td>\n",
       "      <td>17.5</td>\n",
       "    </tr>\n",
       "    <tr>\n",
       "      <th>4</th>\n",
       "      <td>2003-07-07</td>\n",
       "      <td>74.28</td>\n",
       "      <td>76.46</td>\n",
       "      <td>45.82</td>\n",
       "      <td>45.82</td>\n",
       "      <td>17.5</td>\n",
       "      <td>17.5</td>\n",
       "    </tr>\n",
       "  </tbody>\n",
       "</table>\n",
       "</div>"
      ],
      "text/plain": [
       "        Date  Petrol  Diesel  PDutyRate  DDutyRate  PVATPercentage  \\\n",
       "0 2003-06-09   74.59   76.77      45.82      45.82            17.5   \n",
       "1 2003-06-16   74.47   76.69      45.82      45.82            17.5   \n",
       "2 2003-06-23   74.42   76.62      45.82      45.82            17.5   \n",
       "3 2003-06-30   74.35   76.51      45.82      45.82            17.5   \n",
       "4 2003-07-07   74.28   76.46      45.82      45.82            17.5   \n",
       "\n",
       "   DVATPercentage  \n",
       "0            17.5  \n",
       "1            17.5  \n",
       "2            17.5  \n",
       "3            17.5  \n",
       "4            17.5  "
      ]
     },
     "execution_count": 7,
     "metadata": {},
     "output_type": "execute_result"
    }
   ],
   "source": [
    "df.head()"
   ]
  },
  {
   "cell_type": "markdown",
   "metadata": {},
   "source": [
    "* Pump prices are in pence/liter. \n",
    "* Change to imperial: dollars per gallon\n",
    "* 1 USD = 80.34 GBX\n",
    "* 1 Gallon = 3.78541 Liter"
   ]
  },
  {
   "cell_type": "code",
   "execution_count": 9,
   "metadata": {},
   "outputs": [],
   "source": [
    "def convert_dgals(pence_per_liter):\n",
    "    #1 USD = 80.34GBX\n",
    "    #1 GAL = 3.78541 Liter\n",
    "    dollars_per_gallon = (pence_per_liter / 80.34) * 3.78541\n",
    "    return dollars_per_gallon"
   ]
  },
  {
   "cell_type": "code",
   "execution_count": 11,
   "metadata": {},
   "outputs": [],
   "source": [
    "#convert pence per liter to dollars per gallon to columns petrol and diesel\n",
    "fuel_prices = df.apply(lambda x: convert_dgals(x) if x.name in ['Petrol','Diesel','PDutyRate','DDutyRate'] else x ,axis =0)"
   ]
  },
  {
   "cell_type": "code",
   "execution_count": 14,
   "metadata": {},
   "outputs": [
    {
     "data": {
      "text/html": [
       "<div>\n",
       "<style scoped>\n",
       "    .dataframe tbody tr th:only-of-type {\n",
       "        vertical-align: middle;\n",
       "    }\n",
       "\n",
       "    .dataframe tbody tr th {\n",
       "        vertical-align: top;\n",
       "    }\n",
       "\n",
       "    .dataframe thead th {\n",
       "        text-align: right;\n",
       "    }\n",
       "</style>\n",
       "<table border=\"1\" class=\"dataframe\">\n",
       "  <thead>\n",
       "    <tr style=\"text-align: right;\">\n",
       "      <th></th>\n",
       "      <th>Date</th>\n",
       "      <th>Petrol</th>\n",
       "      <th>Diesel</th>\n",
       "      <th>PDutyRate</th>\n",
       "      <th>DDutyRate</th>\n",
       "      <th>PVATPercentage</th>\n",
       "      <th>DVATPercentage</th>\n",
       "    </tr>\n",
       "  </thead>\n",
       "  <tbody>\n",
       "    <tr>\n",
       "      <th>0</th>\n",
       "      <td>2003-06-09</td>\n",
       "      <td>3.514485</td>\n",
       "      <td>3.617201</td>\n",
       "      <td>2.158918</td>\n",
       "      <td>2.158918</td>\n",
       "      <td>17.5</td>\n",
       "      <td>17.5</td>\n",
       "    </tr>\n",
       "    <tr>\n",
       "      <th>1</th>\n",
       "      <td>2003-06-16</td>\n",
       "      <td>3.508831</td>\n",
       "      <td>3.613432</td>\n",
       "      <td>2.158918</td>\n",
       "      <td>2.158918</td>\n",
       "      <td>17.5</td>\n",
       "      <td>17.5</td>\n",
       "    </tr>\n",
       "    <tr>\n",
       "      <th>2</th>\n",
       "      <td>2003-06-23</td>\n",
       "      <td>3.506475</td>\n",
       "      <td>3.610133</td>\n",
       "      <td>2.158918</td>\n",
       "      <td>2.158918</td>\n",
       "      <td>17.5</td>\n",
       "      <td>17.5</td>\n",
       "    </tr>\n",
       "    <tr>\n",
       "      <th>3</th>\n",
       "      <td>2003-06-30</td>\n",
       "      <td>3.503177</td>\n",
       "      <td>3.604950</td>\n",
       "      <td>2.158918</td>\n",
       "      <td>2.158918</td>\n",
       "      <td>17.5</td>\n",
       "      <td>17.5</td>\n",
       "    </tr>\n",
       "    <tr>\n",
       "      <th>4</th>\n",
       "      <td>2003-07-07</td>\n",
       "      <td>3.499879</td>\n",
       "      <td>3.602595</td>\n",
       "      <td>2.158918</td>\n",
       "      <td>2.158918</td>\n",
       "      <td>17.5</td>\n",
       "      <td>17.5</td>\n",
       "    </tr>\n",
       "  </tbody>\n",
       "</table>\n",
       "</div>"
      ],
      "text/plain": [
       "        Date    Petrol    Diesel  PDutyRate  DDutyRate  PVATPercentage  \\\n",
       "0 2003-06-09  3.514485  3.617201   2.158918   2.158918            17.5   \n",
       "1 2003-06-16  3.508831  3.613432   2.158918   2.158918            17.5   \n",
       "2 2003-06-23  3.506475  3.610133   2.158918   2.158918            17.5   \n",
       "3 2003-06-30  3.503177  3.604950   2.158918   2.158918            17.5   \n",
       "4 2003-07-07  3.499879  3.602595   2.158918   2.158918            17.5   \n",
       "\n",
       "   DVATPercentage  \n",
       "0            17.5  \n",
       "1            17.5  \n",
       "2            17.5  \n",
       "3            17.5  \n",
       "4            17.5  "
      ]
     },
     "execution_count": 14,
     "metadata": {},
     "output_type": "execute_result"
    }
   ],
   "source": [
    "fuel_prices.head()"
   ]
  },
  {
   "cell_type": "code",
   "execution_count": 13,
   "metadata": {},
   "outputs": [],
   "source": [
    "#fuel_prices.to_csv('fuel_prices.csv')"
   ]
  },
  {
   "cell_type": "code",
   "execution_count": null,
   "metadata": {},
   "outputs": [],
   "source": []
  }
 ],
 "metadata": {
  "kernelspec": {
   "display_name": "Python 3",
   "language": "python",
   "name": "python3"
  },
  "language_info": {
   "codemirror_mode": {
    "name": "ipython",
    "version": 3
   },
   "file_extension": ".py",
   "mimetype": "text/x-python",
   "name": "python",
   "nbconvert_exporter": "python",
   "pygments_lexer": "ipython3",
   "version": "3.7.3"
  }
 },
 "nbformat": 4,
 "nbformat_minor": 2
}
